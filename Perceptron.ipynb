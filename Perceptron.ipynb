{
  "nbformat": 4,
  "nbformat_minor": 0,
  "metadata": {
    "colab": {
      "provenance": [],
      "collapsed_sections": [],
      "authorship_tag": "ABX9TyPYaaFxbwY4mJNOqi9fn/oe",
      "include_colab_link": true
    },
    "kernelspec": {
      "name": "python3",
      "display_name": "Python 3"
    },
    "language_info": {
      "name": "python"
    }
  },
  "cells": [
    {
      "cell_type": "markdown",
      "metadata": {
        "id": "view-in-github",
        "colab_type": "text"
      },
      "source": [
        "<a href=\"https://colab.research.google.com/github/Misery-1015/ML/blob/main/ML.ipynb\" target=\"_parent\"><img src=\"https://colab.research.google.com/assets/colab-badge.svg\" alt=\"Open In Colab\"/></a>"
      ]
    },
    {
      "cell_type": "code",
      "execution_count": null,
      "metadata": {
        "id": "hm5cKPI-VAOZ"
      },
      "outputs": [],
      "source": [
        "import pandas as pd\n",
        "import matplotlib\n",
        "import matplotlib.pyplot as plt\n",
        "import numpy as np\n",
        "!gdown --id 1fsKERl26TNTFIY25PhReoCujxwJvfyHn\n",
        "zhfont = matplotlib.font_manager.FontProperties(fname='SimHei .ttf')"
      ]
    },
    {
      "cell_type": "code",
      "source": [
        "df = pd.read_csv(\"https://archive.ics.uci.edu/ml/machine-learning-databases/iris/iris.data\",header=None)\n",
        "df.tail"
      ],
      "metadata": {
        "id": "c1Yqo2iffD8o"
      },
      "execution_count": null,
      "outputs": []
    },
    {
      "cell_type": "code",
      "source": [
        "df.info()"
      ],
      "metadata": {
        "id": "2qNybWeCfbVU"
      },
      "execution_count": null,
      "outputs": []
    },
    {
      "cell_type": "code",
      "source": [
        "y=df.iloc[0:100,4].values\n",
        "print(y)"
      ],
      "metadata": {
        "id": "VNGSbEHuiJ_G"
      },
      "execution_count": null,
      "outputs": []
    },
    {
      "cell_type": "code",
      "source": [
        "y=np.where(y=='Iris-setosa',-1,1)\n",
        "print(y)"
      ],
      "metadata": {
        "id": "g5MYosXaid5i"
      },
      "execution_count": null,
      "outputs": []
    },
    {
      "cell_type": "code",
      "source": [
        "x = df.iloc[0:100,[0,2]].values\n",
        "print(x)"
      ],
      "metadata": {
        "id": "8PVtPOMtl1RT"
      },
      "execution_count": null,
      "outputs": []
    },
    {
      "cell_type": "code",
      "source": [
        "# plt.rcParams['font.sans-serif']=['SimHei']\n",
        "# plt.rcParams['axes.unicode_minus']=False\n",
        "plt.scatter(x[:50,0],x[:50,1],color='red',marker='o',label='setosa')\n",
        "plt.scatter(x[50:100,0],x[50:100,1],color='blue',marker='x',label='versicolor')\n",
        "plt.xlabel(u'萼片长度（cm）',fontproperties=zhfont)\n",
        "plt.ylabel(u'花瓣长度（cm）',fontproperties=zhfont)\n",
        "plt.legend(loc='upper left')\n",
        "plt.show()"
      ],
      "metadata": {
        "colab": {
          "base_uri": "https://localhost:8080/",
          "height": 279
        },
        "id": "DV7KakoVmS4P",
        "outputId": "da9874db-a0a2-4695-cc53-bfb5db5973e9"
      },
      "execution_count": 31,
      "outputs": [
        {
          "output_type": "display_data",
          "data": {
            "text/plain": [
              "<Figure size 432x288 with 1 Axes>"
            ],
            "image/png": "[encoded data removed]"
          },
          "metadata": {
            "needs_background": "light"
          }
        }
      ]
    },
    {
      "cell_type": "code",
      "source": [
        "class Perceptron():\n",
        "  def __init__(self,eta=0.01,n_iter=50,random_state=1) -> None:\n",
        "    self.eta=eta\n",
        "    self.n_iter =n_iter\n",
        "    self.random_state = random_state\n",
        "\n",
        "  def net_input(self,x):\n",
        "    # print(x)\n",
        "    # print(self.w_[1:])\n",
        "    # print(np.dot(x,self.w_[1:]) + self.w_[0])\n",
        "    return np.dot(x,self.w_[1:]) + self.w_[0]\n",
        "\n",
        "  def predict(self,x):\n",
        "    return np.where(self.net_input(x) >= 0.0 ,1,-1)\n",
        "\n",
        "  def fit(self,x,y):\n",
        "    rgen = np.random.RandomState(self.random_state)\n",
        "    self.w_=rgen.normal(loc=0.0, scale=0.01,size=1+x.shape[1])\n",
        "    self.errors_ = []\n",
        "    for i in range(self.n_iter):\n",
        "      errors = 0\n",
        "      for xi, target in zip(x,y):\n",
        "        # print(xi)\n",
        "        update = self.eta * (target - self.predict(xi))\n",
        "        self.w_[1:]+=update*xi\n",
        "        self.w_[0]+=update\n",
        "        errors += int(update != 0.0)\n",
        "      self.errors_.append(errors)\n",
        "    return self"
      ],
      "metadata": {
        "id": "LLPaCFxnpugP"
      },
      "execution_count": 41,
      "outputs": []
    },
    {
      "cell_type": "code",
      "source": [
        "ppn=Perceptron(eta=0.1,n_iter=10)\n",
        "ppn.fit(x,y)"
      ],
      "metadata": {
        "colab": {
          "base_uri": "https://localhost:8080/"
        },
        "id": "yJuog_rupKzQ",
        "outputId": "6baee84a-37d5-49c1-9190-2668fdce39a9"
      },
      "execution_count": 42,
      "outputs": [
        {
          "output_type": "execute_result",
          "data": {
            "text/plain": [
              "<__main__.Perceptron at 0x7fa7b60e03d0>"
            ]
          },
          "metadata": {},
          "execution_count": 42
        }
      ]
    },
    {
      "cell_type": "code",
      "source": [
        "plt.plot(range(1,len(ppn.errors_)+1),ppn.errors_,marker='o')\n",
        "plt.xlabel('epochs')\n",
        "plt.ylabel(u'更新次数',fontproperties=zhfont)\n",
        "plt.show()"
      ],
      "metadata": {
        "colab": {
          "base_uri": "https://localhost:8080/",
          "height": 279
        },
        "id": "b2oZsHknvzyY",
        "outputId": "5ce0513f-bf63-4dc2-9dfd-f557d9734ddb"
      },
      "execution_count": 43,
      "outputs": [
        {
          "output_type": "display_data",
          "data": {
            "text/plain": [
              "<Figure size 432x288 with 1 Axes>"
            ],
            "image/png": "[encoded data removed]"
          },
          "metadata": {
            "needs_background": "light"
          }
        }
      ]
    }
  ]
}
