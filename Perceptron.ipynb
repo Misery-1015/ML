{
  "nbformat": 4,
  "nbformat_minor": 0,
  "metadata": {
    "colab": {
      "provenance": [],
      "collapsed_sections": [],
      "mount_file_id": "1sv67pRwx197iQt73yVbFtiD89SuzGdqg",
      "authorship_tag": "ABX9TyPBu7fdkyILYwRd2PoEvQ33",
      "include_colab_link": true
    },
    "kernelspec": {
      "name": "python3",
      "display_name": "Python 3"
    },
    "language_info": {
      "name": "python"
    }
  },
  "cells": [
    {
      "cell_type": "markdown",
      "metadata": {
        "id": "view-in-github",
        "colab_type": "text"
      },
      "source": [
        "<a href=\"https://colab.research.google.com/github/Misery-1015/ML/blob/main/Perceptron.ipynb\" target=\"_parent\"><img src=\"https://colab.research.google.com/assets/colab-badge.svg\" alt=\"Open In Colab\"/></a>"
      ]
    },
    {
      "cell_type": "code",
      "execution_count": 14,
      "metadata": {
        "id": "hm5cKPI-VAOZ",
        "colab": {
          "base_uri": "https://localhost:8080/"
        },
        "outputId": "37612d3d-f349-4a0d-9b88-6912fc8254ce"
      },
      "outputs": [
        {
          "output_type": "stream",
          "name": "stdout",
          "text": [
            "/usr/local/lib/python3.7/dist-packages/gdown/cli.py:131: FutureWarning: Option `--id` was deprecated in version 4.3.1 and will be removed in 5.0. You don't need to pass it anymore to use a file ID.\n",
            "  category=FutureWarning,\n",
            "Downloading...\n",
            "From: https://drive.google.com/uc?id=1fsKERl26TNTFIY25PhReoCujxwJvfyHn\n",
            "To: /content/SimHei .ttf\n",
            "100% 10.1M/10.1M [00:00<00:00, 124MB/s]\n"
          ]
        }
      ],
      "source": [
        "import pandas as pd\n",
        "import matplotlib\n",
        "import matplotlib.pyplot as plt\n",
        "import numpy as np\n",
        "!gdown --id 1fsKERl26TNTFIY25PhReoCujxwJvfyHn\n",
        "zhfont = matplotlib.font_manager.FontProperties(fname='SimHei .ttf')"
      ]
    },
    {
      "cell_type": "code",
      "source": [
        "df = pd.read_csv(\"https://archive.ics.uci.edu/ml/machine-learning-databases/iris/iris.data\",header=None)\n",
        "df.tail"
      ],
      "metadata": {
        "id": "c1Yqo2iffD8o",
        "colab": {
          "base_uri": "https://localhost:8080/"
        },
        "outputId": "0332ed92-0389-4502-cf46-e8fd5bcb553e"
      },
      "execution_count": 15,
      "outputs": [
        {
          "output_type": "execute_result",
          "data": {
            "text/plain": [
              "<bound method NDFrame.tail of        0    1    2    3               4\n",
              "0    5.1  3.5  1.4  0.2     Iris-setosa\n",
              "1    4.9  3.0  1.4  0.2     Iris-setosa\n",
              "2    4.7  3.2  1.3  0.2     Iris-setosa\n",
              "3    4.6  3.1  1.5  0.2     Iris-setosa\n",
              "4    5.0  3.6  1.4  0.2     Iris-setosa\n",
              "..   ...  ...  ...  ...             ...\n",
              "145  6.7  3.0  5.2  2.3  Iris-virginica\n",
              "146  6.3  2.5  5.0  1.9  Iris-virginica\n",
              "147  6.5  3.0  5.2  2.0  Iris-virginica\n",
              "148  6.2  3.4  5.4  2.3  Iris-virginica\n",
              "149  5.9  3.0  5.1  1.8  Iris-virginica\n",
              "\n",
              "[150 rows x 5 columns]>"
            ]
          },
          "metadata": {},
          "execution_count": 15
        }
      ]
    },
    {
      "cell_type": "code",
      "source": [
        "df.info()"
      ],
      "metadata": {
        "id": "2qNybWeCfbVU",
        "colab": {
          "base_uri": "https://localhost:8080/"
        },
        "outputId": "2c52a750-043b-477e-f9d8-9d7ca129b376"
      },
      "execution_count": 16,
      "outputs": [
        {
          "output_type": "stream",
          "name": "stdout",
          "text": [
            "<class 'pandas.core.frame.DataFrame'>\n",
            "RangeIndex: 150 entries, 0 to 149\n",
            "Data columns (total 5 columns):\n",
            " #   Column  Non-Null Count  Dtype  \n",
            "---  ------  --------------  -----  \n",
            " 0   0       150 non-null    float64\n",
            " 1   1       150 non-null    float64\n",
            " 2   2       150 non-null    float64\n",
            " 3   3       150 non-null    float64\n",
            " 4   4       150 non-null    object \n",
            "dtypes: float64(4), object(1)\n",
            "memory usage: 6.0+ KB\n"
          ]
        }
      ]
    },
    {
      "cell_type": "code",
      "source": [
        "y=df.iloc[0:100,4].values\n",
        "print(y)"
      ],
      "metadata": {
        "id": "VNGSbEHuiJ_G",
        "colab": {
          "base_uri": "https://localhost:8080/"
        },
        "outputId": "1525757b-2160-4f54-ee58-9e00944022a9"
      },
      "execution_count": 17,
      "outputs": [
        {
          "output_type": "stream",
          "name": "stdout",
          "text": [
            "['Iris-setosa' 'Iris-setosa' 'Iris-setosa' 'Iris-setosa' 'Iris-setosa'\n",
            " 'Iris-setosa' 'Iris-setosa' 'Iris-setosa' 'Iris-setosa' 'Iris-setosa'\n",
            " 'Iris-setosa' 'Iris-setosa' 'Iris-setosa' 'Iris-setosa' 'Iris-setosa'\n",
            " 'Iris-setosa' 'Iris-setosa' 'Iris-setosa' 'Iris-setosa' 'Iris-setosa'\n",
            " 'Iris-setosa' 'Iris-setosa' 'Iris-setosa' 'Iris-setosa' 'Iris-setosa'\n",
            " 'Iris-setosa' 'Iris-setosa' 'Iris-setosa' 'Iris-setosa' 'Iris-setosa'\n",
            " 'Iris-setosa' 'Iris-setosa' 'Iris-setosa' 'Iris-setosa' 'Iris-setosa'\n",
            " 'Iris-setosa' 'Iris-setosa' 'Iris-setosa' 'Iris-setosa' 'Iris-setosa'\n",
            " 'Iris-setosa' 'Iris-setosa' 'Iris-setosa' 'Iris-setosa' 'Iris-setosa'\n",
            " 'Iris-setosa' 'Iris-setosa' 'Iris-setosa' 'Iris-setosa' 'Iris-setosa'\n",
            " 'Iris-versicolor' 'Iris-versicolor' 'Iris-versicolor' 'Iris-versicolor'\n",
            " 'Iris-versicolor' 'Iris-versicolor' 'Iris-versicolor' 'Iris-versicolor'\n",
            " 'Iris-versicolor' 'Iris-versicolor' 'Iris-versicolor' 'Iris-versicolor'\n",
            " 'Iris-versicolor' 'Iris-versicolor' 'Iris-versicolor' 'Iris-versicolor'\n",
            " 'Iris-versicolor' 'Iris-versicolor' 'Iris-versicolor' 'Iris-versicolor'\n",
            " 'Iris-versicolor' 'Iris-versicolor' 'Iris-versicolor' 'Iris-versicolor'\n",
            " 'Iris-versicolor' 'Iris-versicolor' 'Iris-versicolor' 'Iris-versicolor'\n",
            " 'Iris-versicolor' 'Iris-versicolor' 'Iris-versicolor' 'Iris-versicolor'\n",
            " 'Iris-versicolor' 'Iris-versicolor' 'Iris-versicolor' 'Iris-versicolor'\n",
            " 'Iris-versicolor' 'Iris-versicolor' 'Iris-versicolor' 'Iris-versicolor'\n",
            " 'Iris-versicolor' 'Iris-versicolor' 'Iris-versicolor' 'Iris-versicolor'\n",
            " 'Iris-versicolor' 'Iris-versicolor' 'Iris-versicolor' 'Iris-versicolor'\n",
            " 'Iris-versicolor' 'Iris-versicolor']\n"
          ]
        }
      ]
    },
    {
      "cell_type": "code",
      "source": [
        "y=np.where(y=='Iris-setosa',-1,1)\n",
        "print(y)"
      ],
      "metadata": {
        "colab": {
          "base_uri": "https://localhost:8080/"
        },
        "id": "g5MYosXaid5i",
        "outputId": "7a1eae34-211a-4f9d-9961-b55a082590ad"
      },
      "execution_count": 18,
      "outputs": [
        {
          "output_type": "stream",
          "name": "stdout",
          "text": [
            "[-1 -1 -1 -1 -1 -1 -1 -1 -1 -1 -1 -1 -1 -1 -1 -1 -1 -1 -1 -1 -1 -1 -1 -1\n",
            " -1 -1 -1 -1 -1 -1 -1 -1 -1 -1 -1 -1 -1 -1 -1 -1 -1 -1 -1 -1 -1 -1 -1 -1\n",
            " -1 -1  1  1  1  1  1  1  1  1  1  1  1  1  1  1  1  1  1  1  1  1  1  1\n",
            "  1  1  1  1  1  1  1  1  1  1  1  1  1  1  1  1  1  1  1  1  1  1  1  1\n",
            "  1  1  1  1]\n"
          ]
        }
      ]
    },
    {
      "cell_type": "code",
      "source": [
        "x = df.iloc[0:100,[0,2]].values\n",
        "print(x)"
      ],
      "metadata": {
        "colab": {
          "base_uri": "https://localhost:8080/"
        },
        "id": "8PVtPOMtl1RT",
        "outputId": "d316e182-493c-4109-ff1e-079b9aeaa0a0"
      },
      "execution_count": 19,
      "outputs": [
        {
          "output_type": "stream",
          "name": "stdout",
          "text": [
            "[[5.1 1.4]\n",
            " [4.9 1.4]\n",
            " [4.7 1.3]\n",
            " [4.6 1.5]\n",
            " [5.  1.4]\n",
            " [5.4 1.7]\n",
            " [4.6 1.4]\n",
            " [5.  1.5]\n",
            " [4.4 1.4]\n",
            " [4.9 1.5]\n",
            " [5.4 1.5]\n",
            " [4.8 1.6]\n",
            " [4.8 1.4]\n",
            " [4.3 1.1]\n",
            " [5.8 1.2]\n",
            " [5.7 1.5]\n",
            " [5.4 1.3]\n",
            " [5.1 1.4]\n",
            " [5.7 1.7]\n",
            " [5.1 1.5]\n",
            " [5.4 1.7]\n",
            " [5.1 1.5]\n",
            " [4.6 1. ]\n",
            " [5.1 1.7]\n",
            " [4.8 1.9]\n",
            " [5.  1.6]\n",
            " [5.  1.6]\n",
            " [5.2 1.5]\n",
            " [5.2 1.4]\n",
            " [4.7 1.6]\n",
            " [4.8 1.6]\n",
            " [5.4 1.5]\n",
            " [5.2 1.5]\n",
            " [5.5 1.4]\n",
            " [4.9 1.5]\n",
            " [5.  1.2]\n",
            " [5.5 1.3]\n",
            " [4.9 1.5]\n",
            " [4.4 1.3]\n",
            " [5.1 1.5]\n",
            " [5.  1.3]\n",
            " [4.5 1.3]\n",
            " [4.4 1.3]\n",
            " [5.  1.6]\n",
            " [5.1 1.9]\n",
            " [4.8 1.4]\n",
            " [5.1 1.6]\n",
            " [4.6 1.4]\n",
            " [5.3 1.5]\n",
            " [5.  1.4]\n",
            " [7.  4.7]\n",
            " [6.4 4.5]\n",
            " [6.9 4.9]\n",
            " [5.5 4. ]\n",
            " [6.5 4.6]\n",
            " [5.7 4.5]\n",
            " [6.3 4.7]\n",
            " [4.9 3.3]\n",
            " [6.6 4.6]\n",
            " [5.2 3.9]\n",
            " [5.  3.5]\n",
            " [5.9 4.2]\n",
            " [6.  4. ]\n",
            " [6.1 4.7]\n",
            " [5.6 3.6]\n",
            " [6.7 4.4]\n",
            " [5.6 4.5]\n",
            " [5.8 4.1]\n",
            " [6.2 4.5]\n",
            " [5.6 3.9]\n",
            " [5.9 4.8]\n",
            " [6.1 4. ]\n",
            " [6.3 4.9]\n",
            " [6.1 4.7]\n",
            " [6.4 4.3]\n",
            " [6.6 4.4]\n",
            " [6.8 4.8]\n",
            " [6.7 5. ]\n",
            " [6.  4.5]\n",
            " [5.7 3.5]\n",
            " [5.5 3.8]\n",
            " [5.5 3.7]\n",
            " [5.8 3.9]\n",
            " [6.  5.1]\n",
            " [5.4 4.5]\n",
            " [6.  4.5]\n",
            " [6.7 4.7]\n",
            " [6.3 4.4]\n",
            " [5.6 4.1]\n",
            " [5.5 4. ]\n",
            " [5.5 4.4]\n",
            " [6.1 4.6]\n",
            " [5.8 4. ]\n",
            " [5.  3.3]\n",
            " [5.6 4.2]\n",
            " [5.7 4.2]\n",
            " [5.7 4.2]\n",
            " [6.2 4.3]\n",
            " [5.1 3. ]\n",
            " [5.7 4.1]]\n"
          ]
        }
      ]
    },
    {
      "cell_type": "code",
      "source": [
        "# plt.rcParams['font.sans-serif']=['SimHei']\n",
        "# plt.rcParams['axes.unicode_minus']=False\n",
        "plt.scatter(x[:50,0],x[:50,1],color='red',marker='o',label='setosa')\n",
        "plt.scatter(x[50:100,0],x[50:100,1],color='blue',marker='x',label='versicolor')\n",
        "plt.xlabel(u'萼片长度（cm）',fontproperties=zhfont)\n",
        "plt.ylabel(u'花瓣长度（cm）',fontproperties=zhfont)\n",
        "plt.legend(loc='upper left')\n",
        "plt.show()"
      ],
      "metadata": {
        "colab": {
          "base_uri": "https://localhost:8080/",
          "height": 279
        },
        "id": "DV7KakoVmS4P",
        "outputId": "a68ef914-ce85-434f-92cf-3ae74aa99888"
      },
      "execution_count": 20,
      "outputs": [
        {
          "output_type": "display_data",
          "data": {
            "text/plain": [
              "<Figure size 432x288 with 1 Axes>"
            ],
            "image/png": "[encoded data removed]"
          },
          "metadata": {
            "needs_background": "light"
          }
        }
      ]
    },
    {
      "cell_type": "code",
      "source": [
        "class Perceptron():\n",
        "  def __init__(self,eta=0.01,n_iter=50,random_state=1) -> None:\n",
        "    self.eta=eta\n",
        "    self.n_iter =n_iter\n",
        "    self.random_state = random_state\n",
        "\n",
        "  def net_input(self,x):\n",
        "    # print(x)\n",
        "    # print(self.w_[1:])\n",
        "    # print(np.dot(x,self.w_[1:]) + self.w_[0])\n",
        "    return np.dot(x,self.w_[1:]) + self.w_[0]\n",
        "\n",
        "  def predict(self,x):\n",
        "    return np.where(self.net_input(x) >= 0.0 ,1,-1)\n",
        "\n",
        "  def fit(self,x,y):\n",
        "    rgen = np.random.RandomState(self.random_state)\n",
        "    self.w_=rgen.normal(loc=0.0, scale=0.01,size=1+x.shape[1])\n",
        "    self.errors_ = []\n",
        "    for i in range(self.n_iter):\n",
        "      errors = 0\n",
        "      for xi, target in zip(x,y):\n",
        "        # print(xi)\n",
        "        update = self.eta * (target - self.predict(xi))\n",
        "        self.w_[1:]+=update*xi\n",
        "        self.w_[0]+=update\n",
        "        errors += int(update != 0.0)\n",
        "      self.errors_.append(errors)\n",
        "    return self"
      ],
      "metadata": {
        "id": "LLPaCFxnpugP"
      },
      "execution_count": 21,
      "outputs": []
    },
    {
      "cell_type": "code",
      "source": [
        "rgen = np.random.RandomState(1)\n",
        "w_=rgen.normal(loc=0.0, scale=0.01,size=1+x.shape[1])\n",
        "print(w_[1:])"
      ],
      "metadata": {
        "colab": {
          "base_uri": "https://localhost:8080/"
        },
        "id": "Z8CtM17SQvia",
        "outputId": "ab1fbb00-b7c9-4dc2-fb1f-faa92d0cc9b0"
      },
      "execution_count": 22,
      "outputs": [
        {
          "output_type": "stream",
          "name": "stdout",
          "text": [
            "[-0.00611756 -0.00528172]\n"
          ]
        }
      ]
    },
    {
      "cell_type": "code",
      "source": [
        "ppn=Perceptron(eta=0.1,n_iter=10)\n",
        "ppn.fit(x,y)"
      ],
      "metadata": {
        "colab": {
          "base_uri": "https://localhost:8080/"
        },
        "id": "yJuog_rupKzQ",
        "outputId": "d0857861-d256-4775-e538-7a726c2d8f1a"
      },
      "execution_count": 23,
      "outputs": [
        {
          "output_type": "execute_result",
          "data": {
            "text/plain": [
              "<__main__.Perceptron at 0x7f5e6b64ced0>"
            ]
          },
          "metadata": {},
          "execution_count": 23
        }
      ]
    },
    {
      "cell_type": "code",
      "source": [
        "plt.plot(range(1,len(ppn.errors_)+1),ppn.errors_,marker='o')\n",
        "plt.xlabel('epochs')\n",
        "plt.ylabel(u'更新次数',fontproperties=zhfont)\n",
        "plt.show()"
      ],
      "metadata": {
        "colab": {
          "base_uri": "https://localhost:8080/",
          "height": 279
        },
        "id": "b2oZsHknvzyY",
        "outputId": "f46642fe-2fa6-4594-8d12-0c464b3f32c2"
      },
      "execution_count": 24,
      "outputs": [
        {
          "output_type": "display_data",
          "data": {
            "text/plain": [
              "<Figure size 432x288 with 1 Axes>"
            ],
            "image/png": "[encoded data removed]"
          },
          "metadata": {
            "needs_background": "light"
          }
        }
      ]
    },
    {
      "cell_type": "code",
      "source": [
        "ppn.w_"
      ],
      "metadata": {
        "colab": {
          "base_uri": "https://localhost:8080/"
        },
        "id": "ny02R_1tp0ph",
        "outputId": "c7cc2ad8-26b3-46ec-8b5b-78fefda7bc98"
      },
      "execution_count": 25,
      "outputs": [
        {
          "output_type": "execute_result",
          "data": {
            "text/plain": [
              "array([-0.38375655, -0.70611756,  1.83471828])"
            ]
          },
          "metadata": {},
          "execution_count": 25
        }
      ]
    },
    {
      "cell_type": "code",
      "source": [
        "from matplotlib.colors import ListedColormap\n",
        "\n",
        "def plot_decision_region(x,y,classifier,resolution=0.02):\n",
        "  markers = ('s','x','o','^','v')\n",
        "  colors =('red','blue','lightgreen','gray','cyan')\n",
        "  cmap = ListedColormap(colors[:len(np.unique(y))])\n",
        "\n",
        "  x1_min, x1_max = x[:,0].min()-1,x[:,0].max()-1\n",
        "  x2_min, x2_max = x[:,1].min()-1,x[:,1].max()-1\n",
        "\n",
        "  xx1,xx2 = np.meshgrid(\n",
        "      np.arange(x1_min,x1_max+3,resolution),\n",
        "      np.arange(x2_min,x2_max+3,resolution)\n",
        "  )\n",
        "\n",
        "  z=classifier.predict(np.array([xx1.ravel(),xx2.ravel()]).T)\n",
        "  z=z.reshape(xx1.shape)\n",
        "\n",
        "  plt.contourf(xx1,xx2,z,alpha=0.3,cmap=cmap)\n",
        "  # plt.xlim(xx1.min()-1,xx1.max()+5)\n",
        "  # plt.ylim(xx2.min()-1,xx2.max()+5)\n",
        "  x0=x\n",
        "  for idx , cl in enumerate(np.unique(y)):\n",
        "    plt.scatter(\n",
        "        x=x0[y==cl,0],\n",
        "        y=x0[y==cl,1],\n",
        "        alpha=0.8,\n",
        "        c=colors[idx],\n",
        "        marker=markers[idx],\n",
        "        label=cl,\n",
        "        edgecolor='black'\n",
        "\n",
        "    )"
      ],
      "metadata": {
        "id": "bULuCP5n0XKj"
      },
      "execution_count": 47,
      "outputs": []
    },
    {
      "cell_type": "code",
      "source": [
        "plot_decision_region(x,y,classifier=ppn)\n",
        "plt.xlabel(u'萼片长度',fontproperties=zhfont)\n",
        "plt.ylabel(u'花瓣长度',fontproperties=zhfont)\n",
        "plt.legend(loc='upper left')\n",
        "plt.show()"
      ],
      "metadata": {
        "colab": {
          "base_uri": "https://localhost:8080/",
          "height": 281
        },
        "id": "3Aohcp023SDa",
        "outputId": "a67b5244-f09b-41ef-dde6-f6f1a4bc6782"
      },
      "execution_count": 48,
      "outputs": [
        {
          "output_type": "display_data",
          "data": {
            "text/plain": [
              "<Figure size 432x288 with 1 Axes>"
            ],
            "image/png": "[encoded data removed]"
          },
          "metadata": {
            "needs_background": "light"
          }
        }
      ]
    }
  ]
}