{
  "nbformat": 4,
  "nbformat_minor": 0,
  "metadata": {
    "colab": {
      "provenance": [],
      "authorship_tag": "ABX9TyOS/LqOR8cQodjF+JUk8B0M",
      "include_colab_link": true
    },
    "kernelspec": {
      "name": "python3",
      "display_name": "Python 3"
    },
    "language_info": {
      "name": "python"
    }
  },
  "cells": [
    {
      "cell_type": "markdown",
      "metadata": {
        "id": "view-in-github",
        "colab_type": "text"
      },
      "source": [
        "<a href=\"https://colab.research.google.com/github/Misery-1015/ML/blob/main/AdalineGD.ipynb\" target=\"_parent\"><img src=\"https://colab.research.google.com/assets/colab-badge.svg\" alt=\"Open In Colab\"/></a>"
      ]
    },
    {
      "cell_type": "code",
      "execution_count": 93,
      "metadata": {
        "colab": {
          "base_uri": "https://localhost:8080/"
        },
        "id": "jHFYWj_lYfiX",
        "outputId": "32d98419-ffe3-425e-9a94-528a93b817c7"
      },
      "outputs": [
        {
          "output_type": "stream",
          "name": "stdout",
          "text": [
            "/usr/local/lib/python3.7/dist-packages/gdown/cli.py:131: FutureWarning: Option `--id` was deprecated in version 4.3.1 and will be removed in 5.0. You don't need to pass it anymore to use a file ID.\n",
            "  category=FutureWarning,\n",
            "Downloading...\n",
            "From: https://drive.google.com/uc?id=1fsKERl26TNTFIY25PhReoCujxwJvfyHn\n",
            "To: /content/SimHei .ttf\n",
            "100% 10.1M/10.1M [00:00<00:00, 102MB/s]\n"
          ]
        }
      ],
      "source": [
        "import pandas as pd\n",
        "import matplotlib\n",
        "import matplotlib.pyplot as plt\n",
        "import numpy as np\n",
        "!gdown --id 1fsKERl26TNTFIY25PhReoCujxwJvfyHn\n",
        "zhfont = matplotlib.font_manager.FontProperties(fname='SimHei .ttf')"
      ]
    },
    {
      "cell_type": "code",
      "source": [
        "class AdalineGD():\n",
        "    def __init__(self,eta=0.01,n_iter=50,random_state=1):\n",
        "        self.eta = eta\n",
        "        self.n_iter = n_iter\n",
        "        self.random_state = random_state\n",
        "\n",
        "    def net_input(self, x):\n",
        "        return np.dot(x, self.w_[1:]) + self.w_[0]\n",
        "\n",
        "    def activation(self,x):\n",
        "        return x\n",
        "\n",
        "    def predict(self, x):\n",
        "        return np.where(self.activation(self.net_input(x))>=0,1,-1)\n",
        "\n",
        "    def fit(self, x, y):\n",
        "        rgen = np.random.RandomState(self.random_state)\n",
        "        self.w_ = rgen.normal(loc=0.0, scale=0.01, size=1 + x.shape[1])\n",
        "        self.cost_=[]\n",
        "        \n",
        "        for i in range(self.n_iter):\n",
        "            net_input=self.net_input(x)\n",
        "            output = self.activation(net_input)\n",
        "            # print(output)\n",
        "\n",
        "            errors=y-output\n",
        "            errors=np.array(errors,dtype=float)\n",
        "            # if i%100 ==0:\n",
        "              # print(errors)\n",
        "              # print(\"\\n\\n\\n\")\n",
        "\n",
        "            self.w_[1:]+=self.eta*x.T.dot(errors)\n",
        "            self.w_[0]+=self.eta*errors.sum()\n",
        "\n",
        "            cost = (errors**2).sum()/2.0\n",
        "            # if i%100 ==0:\n",
        "            #   print(cost)\n",
        "            #   print(\"\\n\\n\\n\")\n",
        "            self.cost_.append(cost)\n",
        "        return self"
      ],
      "metadata": {
        "id": "lDLm72HgYzj7"
      },
      "execution_count": 94,
      "outputs": []
    },
    {
      "cell_type": "code",
      "source": [
        "df = pd.read_csv(\"https://archive.ics.uci.edu/ml/machine-learning-databases/iris/iris.data\",header=None)\n"
      ],
      "metadata": {
        "id": "AsQI_k6Fj86S"
      },
      "execution_count": 95,
      "outputs": []
    },
    {
      "cell_type": "code",
      "source": [
        "y=df.iloc[0:100,4].values\n",
        "y=np.where(y=='Iris-setosa',-1,1)\n",
        "x = df.iloc[0:100,0:4].values\n",
        "\n",
        "yt=df.iloc[100:,4].values\n",
        "yt=np.where(yt=='Iris-setosa',-1,1)\n",
        "xt = df.iloc[100:,0:4].values"
      ],
      "metadata": {
        "id": "uLnrQKcvJHr1"
      },
      "execution_count": 96,
      "outputs": []
    },
    {
      "cell_type": "code",
      "source": [
        "yt"
      ],
      "metadata": {
        "colab": {
          "base_uri": "https://localhost:8080/"
        },
        "id": "kFSpS0GhTqym",
        "outputId": "74c5f5c2-4ce5-4f9c-f373-5fe4266c282d"
      },
      "execution_count": 97,
      "outputs": [
        {
          "output_type": "execute_result",
          "data": {
            "text/plain": [
              "array([1, 1, 1, 1, 1, 1, 1, 1, 1, 1, 1, 1, 1, 1, 1, 1, 1, 1, 1, 1, 1, 1,\n",
              "       1, 1, 1, 1, 1, 1, 1, 1, 1, 1, 1, 1, 1, 1, 1, 1, 1, 1, 1, 1, 1, 1,\n",
              "       1, 1, 1, 1, 1, 1])"
            ]
          },
          "metadata": {},
          "execution_count": 97
        }
      ]
    },
    {
      "cell_type": "code",
      "source": [
        "ada=AdalineGD(n_iter=101,eta=0.0001)\n",
        "ada.fit(x,y)\n"
      ],
      "metadata": {
        "colab": {
          "base_uri": "https://localhost:8080/"
        },
        "id": "itjkLpYaJuN0",
        "outputId": "503fd35f-e930-4844-e87b-1bf48ceac625"
      },
      "execution_count": 98,
      "outputs": [
        {
          "output_type": "execute_result",
          "data": {
            "text/plain": [
              "<__main__.AdalineGD at 0x7f304e505790>"
            ]
          },
          "metadata": {},
          "execution_count": 98
        }
      ]
    },
    {
      "cell_type": "code",
      "source": [
        "ada.net_input(x)\n",
        "ada.w_"
      ],
      "metadata": {
        "colab": {
          "base_uri": "https://localhost:8080/"
        },
        "id": "sz71Fp1iNN60",
        "outputId": "e9077fd4-23a9-4470-bf1e-4bb835741e28"
      },
      "execution_count": 99,
      "outputs": [
        {
          "output_type": "execute_result",
          "data": {
            "text/plain": [
              "array([-0.03718702, -0.08634895, -0.31132985,  0.46337727,  0.21200092])"
            ]
          },
          "metadata": {},
          "execution_count": 99
        }
      ]
    },
    {
      "cell_type": "code",
      "source": [
        "ada.w_"
      ],
      "metadata": {
        "colab": {
          "base_uri": "https://localhost:8080/"
        },
        "id": "LTOkc9llKXFG",
        "outputId": "d59aee3e-c595-4a09-f188-f17753ee04b9"
      },
      "execution_count": 100,
      "outputs": [
        {
          "output_type": "execute_result",
          "data": {
            "text/plain": [
              "array([-0.03718702, -0.08634895, -0.31132985,  0.46337727,  0.21200092])"
            ]
          },
          "metadata": {},
          "execution_count": 100
        }
      ]
    },
    {
      "cell_type": "code",
      "source": [
        "acc=0\n",
        "print(len(xt))\n",
        "for i in range(50):\n",
        "  if(ada.predict(xt[i])==yt[i]):\n",
        "    acc+=1\n",
        "print(acc)"
      ],
      "metadata": {
        "colab": {
          "base_uri": "https://localhost:8080/"
        },
        "id": "xXewtsuhJ7yL",
        "outputId": "32252b0b-6f71-495c-fd14-5eaaa5d15a99"
      },
      "execution_count": 101,
      "outputs": [
        {
          "output_type": "stream",
          "name": "stdout",
          "text": [
            "50\n",
            "50\n"
          ]
        }
      ]
    },
    {
      "cell_type": "code",
      "source": [
        "fig,ax=plt.subplots(nrows=1,ncols=2,figsize=(10,4))\n",
        "ada1=AdalineGD(n_iter=10,eta=0.01).fit(x,y)\n",
        "ax[0].plot(range(1,len(ada1.cost_)+1),np.log10(ada1.cost_),marker='o')\n",
        "ax[0].set_xlabel('Epochs');ax[0].set_ylabel('log(sum-squared-error)');ax[0].set_title('Adaline-Learning_rate_0.01')\n",
        "\n",
        "ada2=AdalineGD(n_iter=1000,eta=0.0001).fit(x,y)\n",
        "ax[1].plot(range(1,len(ada2.cost_)+1),ada2.cost_,marker='o')\n",
        "ax[1].set_xlabel('Epochs');ax[1].set_ylabel('log(sum-squared-error)');ax[1].set_title('Adaline-Learning_rate_0.0001')"
      ],
      "metadata": {
        "colab": {
          "base_uri": "https://localhost:8080/",
          "height": 312
        },
        "id": "aBTEWNUmk2be",
        "outputId": "7dea6197-e2ff-4c80-c55a-dbe814db1779"
      },
      "execution_count": 102,
      "outputs": [
        {
          "output_type": "execute_result",
          "data": {
            "text/plain": [
              "Text(0.5, 1.0, 'Adaline-Learning_rate_0.0001')"
            ]
          },
          "metadata": {},
          "execution_count": 102
        },
        {
          "output_type": "display_data",
          "data": {
            "text/plain": [
              "<Figure size 720x288 with 2 Axes>"
            ],
            "image/png": "[encoded data removed]"
          },
          "metadata": {
            "needs_background": "light"
          }
        }
      ]
    },
    {
      "cell_type": "code",
      "source": [
        "for i in range(100):\n",
        "  print(ada1.predict(x[i]))"
      ],
      "metadata": {
        "colab": {
          "base_uri": "https://localhost:8080/"
        },
        "id": "Ik0juMYJflIC",
        "outputId": "79808d9a-23d2-4352-af14-4243f954cf27"
      },
      "execution_count": 103,
      "outputs": [
        {
          "output_type": "stream",
          "name": "stdout",
          "text": [
            "-1\n",
            "-1\n",
            "-1\n",
            "-1\n",
            "-1\n",
            "-1\n",
            "-1\n",
            "-1\n",
            "-1\n",
            "-1\n",
            "-1\n",
            "-1\n",
            "-1\n",
            "-1\n",
            "-1\n",
            "-1\n",
            "-1\n",
            "-1\n",
            "-1\n",
            "-1\n",
            "-1\n",
            "-1\n",
            "-1\n",
            "-1\n",
            "-1\n",
            "-1\n",
            "-1\n",
            "-1\n",
            "-1\n",
            "-1\n",
            "-1\n",
            "-1\n",
            "-1\n",
            "-1\n",
            "-1\n",
            "-1\n",
            "-1\n",
            "-1\n",
            "-1\n",
            "-1\n",
            "-1\n",
            "-1\n",
            "-1\n",
            "-1\n",
            "-1\n",
            "-1\n",
            "-1\n",
            "-1\n",
            "-1\n",
            "-1\n",
            "-1\n",
            "-1\n",
            "-1\n",
            "-1\n",
            "-1\n",
            "-1\n",
            "-1\n",
            "-1\n",
            "-1\n",
            "-1\n",
            "-1\n",
            "-1\n",
            "-1\n",
            "-1\n",
            "-1\n",
            "-1\n",
            "-1\n",
            "-1\n",
            "-1\n",
            "-1\n",
            "-1\n",
            "-1\n",
            "-1\n",
            "-1\n",
            "-1\n",
            "-1\n",
            "-1\n",
            "-1\n",
            "-1\n",
            "-1\n",
            "-1\n",
            "-1\n",
            "-1\n",
            "-1\n",
            "-1\n",
            "-1\n",
            "-1\n",
            "-1\n",
            "-1\n",
            "-1\n",
            "-1\n",
            "-1\n",
            "-1\n",
            "-1\n",
            "-1\n",
            "-1\n",
            "-1\n",
            "-1\n",
            "-1\n",
            "-1\n"
          ]
        }
      ]
    },
    {
      "cell_type": "code",
      "source": [
        "for i in range(100):\n",
        "  print(y[i])"
      ],
      "metadata": {
        "colab": {
          "base_uri": "https://localhost:8080/"
        },
        "id": "eNFYaoPi6K-N",
        "outputId": "7a86824d-e713-4ef6-e944-3a6fd9d62c49"
      },
      "execution_count": 104,
      "outputs": [
        {
          "output_type": "stream",
          "name": "stdout",
          "text": [
            "-1\n",
            "-1\n",
            "-1\n",
            "-1\n",
            "-1\n",
            "-1\n",
            "-1\n",
            "-1\n",
            "-1\n",
            "-1\n",
            "-1\n",
            "-1\n",
            "-1\n",
            "-1\n",
            "-1\n",
            "-1\n",
            "-1\n",
            "-1\n",
            "-1\n",
            "-1\n",
            "-1\n",
            "-1\n",
            "-1\n",
            "-1\n",
            "-1\n",
            "-1\n",
            "-1\n",
            "-1\n",
            "-1\n",
            "-1\n",
            "-1\n",
            "-1\n",
            "-1\n",
            "-1\n",
            "-1\n",
            "-1\n",
            "-1\n",
            "-1\n",
            "-1\n",
            "-1\n",
            "-1\n",
            "-1\n",
            "-1\n",
            "-1\n",
            "-1\n",
            "-1\n",
            "-1\n",
            "-1\n",
            "-1\n",
            "-1\n",
            "1\n",
            "1\n",
            "1\n",
            "1\n",
            "1\n",
            "1\n",
            "1\n",
            "1\n",
            "1\n",
            "1\n",
            "1\n",
            "1\n",
            "1\n",
            "1\n",
            "1\n",
            "1\n",
            "1\n",
            "1\n",
            "1\n",
            "1\n",
            "1\n",
            "1\n",
            "1\n",
            "1\n",
            "1\n",
            "1\n",
            "1\n",
            "1\n",
            "1\n",
            "1\n",
            "1\n",
            "1\n",
            "1\n",
            "1\n",
            "1\n",
            "1\n",
            "1\n",
            "1\n",
            "1\n",
            "1\n",
            "1\n",
            "1\n",
            "1\n",
            "1\n",
            "1\n",
            "1\n",
            "1\n",
            "1\n",
            "1\n",
            "1\n"
          ]
        }
      ]
    },
    {
      "cell_type": "code",
      "source": [
        "ada2.w_"
      ],
      "metadata": {
        "colab": {
          "base_uri": "https://localhost:8080/"
        },
        "id": "Q0CQHSWkfj14",
        "outputId": "f8f35d8b-51d2-4ce4-e1f9-dc64065b41cd"
      },
      "execution_count": 105,
      "outputs": [
        {
          "output_type": "execute_result",
          "data": {
            "text/plain": [
              "array([-0.06414611, -0.11115308, -0.34798607,  0.53295499,  0.28719495])"
            ]
          },
          "metadata": {},
          "execution_count": 105
        }
      ]
    },
    {
      "cell_type": "code",
      "source": [
        "ada1.w_"
      ],
      "metadata": {
        "colab": {
          "base_uri": "https://localhost:8080/"
        },
        "id": "pRS52cbVsnWo",
        "outputId": "bfbd62eb-bdb7-473e-e385-17d3fa1ad948"
      },
      "execution_count": 106,
      "outputs": [
        {
          "output_type": "execute_result",
          "data": {
            "text/plain": [
              "array([-3.09634211e+14, -1.72237950e+15, -9.51763865e+14, -9.47321172e+14,\n",
              "       -2.66579668e+14])"
            ]
          },
          "metadata": {},
          "execution_count": 106
        }
      ]
    }
  ]
}